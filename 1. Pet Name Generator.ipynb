{
  "nbformat": 4,
  "nbformat_minor": 0,
  "metadata": {
    "colab": {
      "provenance": []
    },
    "kernelspec": {
      "name": "python3",
      "display_name": "Python 3"
    },
    "language_info": {
      "name": "python"
    }
  },
  "cells": [
    {
      "cell_type": "code",
      "execution_count": 2,
      "metadata": {
        "id": "VcKScHjplNJx",
        "colab": {
          "base_uri": "https://localhost:8080/"
        },
        "outputId": "741338a0-0a12-4421-e37e-44c88fbf7f10"
      },
      "outputs": [
        {
          "output_type": "stream",
          "name": "stdout",
          "text": [
            "Welcome to the pet name generator\n",
            "Enter the name of your city:\n",
            "Haldia\n",
            "Enter the name of your pet:\n",
            "Bella\n",
            "My pet is Bella from Haldia\n"
          ]
        }
      ],
      "source": [
        "print(\"Welcome to the pet name generator\")\n",
        "\n",
        "city = input(\"Enter the name of your city:\\n\")\n",
        "\n",
        "pet_name = input(\"Enter the name of your pet:\\n\")\n",
        "\n",
        "print(\"My pet is \" + pet_name + \" from \" + city)"
      ]
    }
  ]
}
