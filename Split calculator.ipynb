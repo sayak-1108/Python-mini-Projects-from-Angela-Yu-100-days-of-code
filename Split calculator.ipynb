{
  "nbformat": 4,
  "nbformat_minor": 0,
  "metadata": {
    "colab": {
      "provenance": []
    },
    "kernelspec": {
      "name": "python3",
      "display_name": "Python 3"
    },
    "language_info": {
      "name": "python"
    }
  },
  "cells": [
    {
      "cell_type": "code",
      "execution_count": 2,
      "metadata": {
        "colab": {
          "base_uri": "https://localhost:8080/"
        },
        "id": "Kvb1FsKDQ6MF",
        "outputId": "365c1873-b404-4ea7-d93b-16d84ae5e3d1"
      },
      "outputs": [
        {
          "output_type": "stream",
          "name": "stdout",
          "text": [
            "Welcome to the split calculator\n",
            "Enter the total amount: 1000\n",
            "Enter the tip percentage: 10\n",
            "Number of people: 4\n",
            "Everyone needs to pay 275.00 rupees\n"
          ]
        }
      ],
      "source": [
        "print(\"Welcome to the split calculator\")\n",
        "\n",
        "amount = int(input(\"Enter the total amount: \"))\n",
        "tip = int(input(\"Enter the tip percentage: \"))\n",
        "people = int(input(\"Number of people: \"))\n",
        "\n",
        "pay=(amount+(tip/100)*amount)/people\n",
        "pay = \"{:.2f}\".format(pay)\n",
        "\n",
        "print(f\"Everyone needs to pay {pay} rupees\")"
      ]
    }
  ]
}